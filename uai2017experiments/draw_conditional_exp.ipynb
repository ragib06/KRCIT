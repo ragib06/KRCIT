{
 "cells": [
  {
   "cell_type": "code",
   "execution_count": 1,
   "metadata": {
    "collapsed": true
   },
   "outputs": [],
   "source": [
    "%matplotlib inline\n",
    "import matplotlib.pyplot as plt\n",
    "import seaborn as sns\n",
    "from os.path import expanduser\n",
    "import pandas as pd\n",
    "from uai2017experiments.utils import AUPC\n",
    "import scipy.stats\n",
    "import numpy as np\n",
    "\n",
    "def KS_statistic(p_values: np.ndarray) -> float:\n",
    "    \"\"\"Kolmogorov-Smirnov test statistics\"\"\"\n",
    "    return scipy.stats.kstest(p_values, 'uniform')[0]\n",
    "\n",
    "def type_I_005(p_values: np.ndarray) -> float:\n",
    "    \"\"\"Kolmogorov-Smirnov test statistics\"\"\"\n",
    "    return np.mean(p_values < 0.05)\n",
    "\n",
    "\n",
    "filename = expanduser(\n",
    "    \"~/Dropbox/research/2014 rcm/workspace/python/KRCIT/uai2017experiments/new_results/conditional.csv\")\n",
    "column_names = ['seed', 'n', 'max_rel', 'hops', 'hypothesis', 'actual_size', 'KCIT', 'SDCIT', 'R-KCIT', 'R-SDCIT',\n",
    "                'RK-KCIT', 'RK-SDCIT', 'KRCIT-K', 'KRCIT-SD']\n",
    "df = pd.read_csv(filename, names=column_names)\n",
    "del df['actual_size']\n",
    "df = df.melt(id_vars=['seed', 'n', 'max_rel', 'hops', 'hypothesis'], var_name='method', value_name='p-value')\n",
    "df = df[df.hops != -1]\n",
    "\n",
    "sizesize = 3\n",
    "aspectaspect = 1.85\n",
    "\n",
    "pal = sns.color_palette(\"Paired\", 8)\n",
    "hue_order=['KCIT', 'SDCIT', 'R-KCIT', 'R-SDCIT','RK-KCIT', 'RK-SDCIT', 'KRCIT-K', 'KRCIT-SD']"
   ]
  },
  {
   "cell_type": "code",
   "execution_count": 2,
   "metadata": {},
   "outputs": [],
   "source": [
    "sns.set(context='paper', font_scale=2, style='white', palette=sns.color_palette('Paired', 8))\n",
    "cur_df_alt = df[(df.max_rel == 3) & (df.hops == 1) & (df.hypothesis == 'alternative')]\n",
    "cur_df_alt = cur_df_alt.groupby(by=['n', 'method', 'hypothesis']).aggregate(AUPC).reset_index()\n",
    "cur_df_null = df[(df.max_rel == 3) & (df.hops == 1) & (df.hypothesis == 'null')]\n",
    "cur_df_null = cur_df_null.groupby(by=['n', 'method', 'hypothesis']).aggregate(type_I_005).reset_index()\n",
    "\n",
    "\n",
    "\n",
    "cur_df_null['rr'] = 0\n",
    "cur_df_alt['rr'] = 1\n",
    "df_con = pd.concat([cur_df_null, cur_df_alt], ignore_index=True)\n",
    "g = sns.factorplot(x='n', y='p-value', hue='method', row='rr', data=df_con, row_order=[1,0], size=sizesize, aspect=aspectaspect, hue_order=hue_order, kind='bar', sharey=False, legend=False);\n",
    "g.set_titles('')\n",
    "g.axes.flat[0].set_ylim(0.5,1.01);\n",
    "g.axes.flat[0].set_ylabel('AUPC');\n",
    "g.axes.flat[1].set_ylim(0.0,0.4);\n",
    "g.axes.flat[1].set_ylabel('type-I error rate');\n",
    "g.axes.flat[1].set_xlabel('# of entities per class');\n",
    "g.axes.flat[1].set_yticks([0.0,0.1,0.2,0.3,0.4], minor=False)\n",
    "plt.savefig(expanduser(\"~/Dropbox/research/2014 rcm/workspace/python/KRCIT/uai2017experiments/new_figures/conditional_by_n.pdf\"), transparent=True, bbox_inches='tight', pad_inches=0.02)\n",
    "plt.close()"
   ]
  },
  {
   "cell_type": "code",
   "execution_count": 3,
   "metadata": {},
   "outputs": [],
   "source": [
    "sns.set(context='paper', font_scale=2, style='white', palette=sns.color_palette('Paired', 8))\n",
    "cur_df_alt = df[(df.n==800) & (df.hops==1) & (df.hypothesis == 'alternative')]\n",
    "cur_df_alt = cur_df_alt.groupby(by=['max_rel', 'method', 'hypothesis']).aggregate(AUPC).reset_index()\n",
    "cur_df_null = df[(df.n==800) & (df.hops==1) & (df.hypothesis == 'null')]\n",
    "cur_df_null = cur_df_null.groupby(by=['max_rel', 'method', 'hypothesis']).aggregate(type_I_005).reset_index()\n",
    "\n",
    "\n",
    "\n",
    "cur_df_null['rr'] = 0\n",
    "cur_df_alt['rr'] = 1\n",
    "df_con = pd.concat([cur_df_null, cur_df_alt], ignore_index=True)\n",
    "g = sns.factorplot(x='max_rel', y='p-value', hue='method', row='rr', data=df_con, row_order=[1,0], size=sizesize, aspect=aspectaspect, hue_order=hue_order, kind='bar', sharey=False, legend=False);\n",
    "g.set_titles('')\n",
    "g.axes.flat[0].set_ylim(0.5,1.01);\n",
    "g.axes.flat[0].set_ylabel('AUPC');\n",
    "g.axes.flat[1].set_ylim(0.0,0.4);\n",
    "g.axes.flat[1].set_ylabel('type-I error rate');\n",
    "g.axes.flat[1].set_xlabel('max # of relationships');\n",
    "g.axes.flat[1].set_yticks([0.0,0.1,0.2,0.3,0.4], minor=False)\n",
    "plt.savefig(expanduser(\"~/Dropbox/research/2014 rcm/workspace/python/KRCIT/uai2017experiments/new_figures/conditional_by_maxrel.pdf\"), transparent=True, bbox_inches='tight', pad_inches=0.02)\n",
    "plt.close()"
   ]
  },
  {
   "cell_type": "code",
   "execution_count": 4,
   "metadata": {},
   "outputs": [],
   "source": [
    "sns.set(context='paper', font_scale=2, style='white', palette=sns.color_palette('Paired', 8))\n",
    "cur_df_alt = df[(df.n==800) & (df.max_rel==3) & (df.hypothesis == 'alternative')]\n",
    "cur_df_alt = cur_df_alt.groupby(by=['hops', 'method', 'hypothesis']).aggregate(AUPC).reset_index()\n",
    "cur_df_null = df[(df.n==800) & (df.max_rel==3) & (df.hypothesis == 'null')]\n",
    "cur_df_null = cur_df_null.groupby(by=['hops', 'method', 'hypothesis']).aggregate(type_I_005).reset_index()\n",
    "\n",
    "# experiments performed multiple times.... so... just post-processing.\n",
    "cur_df_null.loc[cur_df_null.method == 'SDCIT', 'p-value'] = np.mean(cur_df_null[cur_df_null.method == 'SDCIT']['p-value'])\n",
    "cur_df_null.loc[cur_df_null.method == 'KCIT', 'p-value'] = np.mean(cur_df_null[cur_df_null.method == 'KCIT']['p-value'])\n",
    "\n",
    "cur_df_alt.loc[cur_df_alt.method == 'SDCIT', 'p-value'] = np.mean(cur_df_alt[cur_df_alt.method == 'SDCIT']['p-value'])\n",
    "cur_df_alt.loc[cur_df_alt.method == 'KCIT', 'p-value'] = np.mean(cur_df_alt[cur_df_alt.method == 'KCIT']['p-value'])\n",
    "\n",
    "\n",
    "cur_df_null['rr'] = 0\n",
    "cur_df_alt['rr'] = 1\n",
    "df_con = pd.concat([cur_df_null, cur_df_alt], ignore_index=True)\n",
    "g = sns.factorplot(x='hops', y='p-value', hue='method', row='rr', data=df_con, row_order=[1,0], size=sizesize, aspect=aspectaspect, hue_order=hue_order, kind='bar', sharey=False);\n",
    "g.set_titles('')\n",
    "g.axes.flat[0].set_ylim(0.5,1.01);\n",
    "g.axes.flat[0].set_ylabel('AUPC');\n",
    "g.axes.flat[1].set_ylim(0.0,0.4);\n",
    "g.axes.flat[1].set_ylabel('type-I error rate');\n",
    "g.axes.flat[1].set_xlabel('# of hops for contexts');\n",
    "g.axes.flat[1].set_yticks([0.0,0.1,0.2,0.3,0.4], minor=False)\n",
    "plt.savefig(expanduser(\"~/Dropbox/research/2014 rcm/workspace/python/KRCIT/uai2017experiments/new_figures/conditional_by_hops.pdf\"), transparent=True, bbox_inches='tight', pad_inches=0.02)\n",
    "plt.close()"
   ]
  },
  {
   "cell_type": "code",
   "execution_count": null,
   "metadata": {},
   "outputs": [],
   "source": [
    ""
   ]
  }
 ],
 "metadata": {
  "kernelspec": {
   "display_name": "Python 2",
   "language": "python",
   "name": "python2"
  },
  "language_info": {
   "codemirror_mode": {
    "name": "ipython",
    "version": 2.0
   },
   "file_extension": ".py",
   "mimetype": "text/x-python",
   "name": "python",
   "nbconvert_exporter": "python",
   "pygments_lexer": "ipython2",
   "version": "2.7.6"
  }
 },
 "nbformat": 4,
 "nbformat_minor": 0
}